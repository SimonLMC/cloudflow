{
 "cells": [
  {
   "cell_type": "code",
   "execution_count": 1,
   "id": "861387e4-2e69-4fa5-b94f-d747c6f47278",
   "metadata": {},
   "outputs": [],
   "source": [
    "import cloudflow\n",
    "\n",
    "loaded_model = cloudflow.cloudflow_model()\n",
    "\n",
    "loaded_model.load_model(tracking_uri = \"/saving_path\",\n",
    "                        experiment_id = \"experiment_name\",\n",
    "                        model_id    = \"# your run id\")"
   ]
  },
  {
   "cell_type": "code",
   "execution_count": 2,
   "id": "0c4d645e-059b-45db-b537-655431c349e7",
   "metadata": {},
   "outputs": [
    {
     "data": {
      "text/plain": [
       "[{'label': 'POSITIVE', 'score': 0.9998632669448853}]"
      ]
     },
     "execution_count": 2,
     "metadata": {},
     "output_type": "execute_result"
    }
   ],
   "source": [
    "loaded_model.predict(input_type = \"sentiment\",\n",
    "                    data = \"That's great !\")"
   ]
  },
  {
   "cell_type": "code",
   "execution_count": 3,
   "id": "9998a071-7682-414a-8b5e-96cd14fe6c65",
   "metadata": {},
   "outputs": [
    {
     "name": "stdout",
     "output_type": "stream",
     "text": [
      "print from intermediate_module --> get_image Launch\n",
      "launch get_print_is_sub function from sub-folder\n"
     ]
    },
    {
     "data": {
      "text/plain": [
       "[{'score': 0.9374414682388306, 'label': 'Egyptian cat'},\n",
       " {'score': 0.03844257444143295, 'label': 'tabby, tabby cat'},\n",
       " {'score': 0.014411373995244503, 'label': 'tiger cat'},\n",
       " {'score': 0.0032743189949542284, 'label': 'lynx, catamount'},\n",
       " {'score': 0.0006795917288400233, 'label': 'Siamese cat, Siamese'}]"
      ]
     },
     "execution_count": 3,
     "metadata": {},
     "output_type": "execute_result"
    }
   ],
   "source": [
    "loaded_model.predict(input_type = \"image\",\n",
    "                    data = \"https://huggingface.co/datasets/huggingface/documentation-images/resolve/main/coco_sample.png\")"
   ]
  },
  {
   "cell_type": "code",
   "execution_count": 4,
   "id": "213d7064-acf5-41c3-9ae0-c300e9f6a3b4",
   "metadata": {},
   "outputs": [
    {
     "data": {
      "text/plain": [
       "[{'translation_text': 'Une pomme par jour, éloigne le médecin'}]"
      ]
     },
     "execution_count": 4,
     "metadata": {},
     "output_type": "execute_result"
    }
   ],
   "source": [
    "loaded_model.predict(input_type = \"translation\",\n",
    "                    data = \"An apple a day, keeps the doctor away\")"
   ]
  },
  {
   "cell_type": "code",
   "execution_count": 5,
   "id": "77191f1d-d649-4693-89cf-fe4da20a7218",
   "metadata": {},
   "outputs": [
    {
     "data": {
      "text/plain": [
       "{'summary': {'summary_text': ' Bear was'},\n",
       " 'input_text': 'A Bear roaming the woods in search of berries happened on a fallen tree in which a swarm of Bees had stored their honey. The Bear began to nose around the log very carefully to find out if the Bees were at home. \\n                        Just then one of the swarm came home from the clover field with a load of sweets. Guessing what the Bear was after, the Bee flew at him, stung him sharply and then disappeared into the hollow log. \\n                        The Bear lost his temper in an instant, and sprang upon the log tooth and claw, to destroy the nest. But this only brought out the whole swarm. The poor Bear had to take to his heels, and he was able to save himself only by diving into a pool of water.'}"
      ]
     },
     "execution_count": 5,
     "metadata": {},
     "output_type": "execute_result"
    }
   ],
   "source": [
    "text_to_summarize = \"\"\"A Bear roaming the woods in search of berries happened on a fallen tree in which a swarm of Bees had stored their honey. The Bear began to nose around the log very carefully to find out if the Bees were at home. \n",
    "                        Just then one of the swarm came home from the clover field with a load of sweets. Guessing what the Bear was after, the Bee flew at him, stung him sharply and then disappeared into the hollow log. \n",
    "                        The Bear lost his temper in an instant, and sprang upon the log tooth and claw, to destroy the nest. But this only brought out the whole swarm. The poor Bear had to take to his heels, and he was able to save himself only by diving into a pool of water.\"\"\"\n",
    "\n",
    "loaded_model.predict(input_type = \"summarization\",\n",
    "                    data = text_to_summarize,\n",
    "                    min_length =  2, \n",
    "                     max_length = 5)"
   ]
  },
  {
   "cell_type": "code",
   "execution_count": 6,
   "id": "068f560b-5adb-41bc-bd9c-4897cc29d1d8",
   "metadata": {},
   "outputs": [
    {
     "name": "stdout",
     "output_type": "stream",
     "text": [
      "===========================================\n",
      "[2023-02-27 18:26:01] Launch download_story\n",
      "===========================================\n"
     ]
    },
    {
     "data": {
      "text/plain": [
       "{'summary': {'summary_text': ' Bear lost his temper in an instant, and sprang upon the log tooth and claw,'},\n",
       " 'input_text': 'A Bear roaming the woods in search of berries happened on a fallen tree in which a swarm of Bees had stored their honey. The Bear began to nose around the log very carefully to find out if the Bees were at home. Just then one of the swarm came home from the clover field with a load of sweets. Guessing what the Bear was after, the Bee flew at him, stung him sharply and then disappeared into the hollow log. The Bear lost his temper in an instant, and sprang upon the log tooth and claw, to destroy the nest. But this only brought out the whole swarm. The poor Bear had to take to his heels, and he was able to save himself only by diving into a pool of water.'}"
      ]
     },
     "execution_count": 6,
     "metadata": {},
     "output_type": "execute_result"
    }
   ],
   "source": [
    "loaded_model.predict(input_type =  \"summarization\",\n",
    "                    min_length = 10, \n",
    "                    max_length = 20)"
   ]
  },
  {
   "cell_type": "code",
   "execution_count": null,
   "id": "cdd396bd-473f-4dca-9020-d69d2664dd2d",
   "metadata": {},
   "outputs": [],
   "source": []
  }
 ],
 "metadata": {
  "kernelspec": {
   "display_name": "Python 3",
   "language": "python",
   "name": "python3"
  },
  "language_info": {
   "codemirror_mode": {
    "name": "ipython",
    "version": 3
   },
   "file_extension": ".py",
   "mimetype": "text/x-python",
   "name": "python",
   "nbconvert_exporter": "python",
   "pygments_lexer": "ipython3",
   "version": "3.7.1"
  },
  "vscode": {
   "interpreter": {
    "hash": "ad2bdc8ecc057115af97d19610ffacc2b4e99fae6737bb82f5d7fb13d2f2c186"
   }
  }
 },
 "nbformat": 4,
 "nbformat_minor": 5
}
