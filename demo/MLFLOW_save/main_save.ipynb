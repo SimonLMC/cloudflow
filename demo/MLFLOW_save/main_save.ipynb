{
 "cells": [
  {
   "cell_type": "code",
   "execution_count": null,
   "id": "4827f877-09f7-46b4-84d5-ae4e289ef4c3",
   "metadata": {},
   "outputs": [],
   "source": [
    "import mlflow\n",
    "import os\n",
    "import importlib\n",
    "from transformers import pipeline\n",
    "\n",
    "summarization_model = pipeline(\"summarization\")\n",
    "sentiment_model = pipeline(\"sentiment-analysis\")\n",
    "translation_model = pipeline('translation_en_to_fr')\n",
    "image_classification = pipeline(\"image-classification\")"
   ]
  },
  {
   "cell_type": "code",
   "execution_count": null,
   "id": "eb79f838-a3ea-442d-be25-dc7d19c30030",
   "metadata": {},
   "outputs": [],
   "source": [
    "import download_file\n",
    "\n",
    "def predict_to_save(sentiment_model,summarization_model, translation_model,image_classification,input_type, data = None,min_length = 0, max_length = 150):\n",
    "    \"\"\"\n",
    "    make and combine the prediction of all the differents models on the differents scoring tables\n",
    "\n",
    "    params_scoring dictionnary: dictionnary that contain all the scoring tables on which models will...\n",
    "    ... make predictions. It have to be a dictionnary as the predict function of mlflow only take a single argument.\n",
    "\n",
    "    Return Pandas dataframe with all the fraud risk score (and few others informations) on the remise batch\n",
    "    Return interpretation_remises pandas dataframe with the interpretation for the remises model\n",
    "    Return interpretation_client pandas dataframe with the interpretation for the clients models\n",
    "    \"\"\"\n",
    "    \n",
    "    if input_type == \"sentiment\":\n",
    "        return sentiment_model(data)\n",
    "    elif input_type == \"translation\":\n",
    "        return translation_model(data)\n",
    "    elif input_type == \"image\":\n",
    "        image = download_file.download_image(data)\n",
    "        return image_classification(image)\n",
    "    elif input_type == \"summarization\":\n",
    "\n",
    "        if data is None:\n",
    "            data = download_file.download_story()\n",
    "\n",
    "        dict_result = summarization_model(data, min_length, max_length)[0]\n",
    "        dict_result[\"input_text\"] = data\n",
    "        return dict_result\n",
    "\n",
    "    return \"mauvais type selectionné\"\n"
   ]
  },
  {
   "cell_type": "code",
   "execution_count": null,
   "id": "81bb3cc2-eff5-476c-b54d-c13ea2b9ca11",
   "metadata": {},
   "outputs": [],
   "source": [
    "import mlflow\n",
    "import cloudflow\n",
    "\n",
    "tracking_uri =\"/Users/simonlemouellic/Documents/test_package_mlflow\"\n",
    "experiment_id = \"cloudflow_demo\" \n",
    "\n",
    "cloudflow.prepare_env(tracking_uri,experiment_id)\n",
    "\n",
    "with mlflow.start_run(experiment_id = experiment_id) as run:\n",
    "    \n",
    "    print(\"RUN ID : \", run.info.run_id)\n",
    "    \n",
    "    mlflow.log_metric('test_metrics', 0.99)\n",
    "\n",
    "    model = cloudflow.cloudflow_model(\"DEBUG\")        \n",
    "    model.save(tracking_uri    = tracking_uri,\n",
    "               experiment_id = experiment_id,\n",
    "               run_id = run.info.run_id, \n",
    "               predict_function = predict_to_save, \n",
    "               models = {\"summarization_model\"  : summarization_model, \n",
    "                         \"image_classification\" : image_classification,\n",
    "                         \"translation_model\"    : translation_model,\n",
    "                         \"sentiment_model\"      : sentiment_model})"
   ]
  },
  {
   "cell_type": "code",
   "execution_count": null,
   "id": "f9dae73d-8151-4b29-bda7-83c46a379180",
   "metadata": {},
   "outputs": [],
   "source": []
  }
 ],
 "metadata": {
  "kernelspec": {
   "display_name": "Python 3 (ipykernel)",
   "language": "python",
   "name": "python3"
  },
  "language_info": {
   "codemirror_mode": {
    "name": "ipython",
    "version": 3
   },
   "file_extension": ".py",
   "mimetype": "text/x-python",
   "name": "python",
   "nbconvert_exporter": "python",
   "pygments_lexer": "ipython3",
   "version": "3.9.7"
  }
 },
 "nbformat": 4,
 "nbformat_minor": 5
}
