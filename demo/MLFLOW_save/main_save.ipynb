{
 "cells": [
  {
   "cell_type": "markdown",
   "id": "ee7dc9c9",
   "metadata": {},
   "source": [
    "This block of code imports the required packages pipeline from the Huggingfaces library. \n",
    "It also imports four pipelines for different NLP/Image classifcation tasks - summarization, sentiment analysis, \n",
    "translation, and image classification - are initialized using the pipeline() method."
   ]
  },
  {
   "cell_type": "code",
   "execution_count": null,
   "id": "4827f877-09f7-46b4-84d5-ae4e289ef4c3",
   "metadata": {},
   "outputs": [],
   "source": [
    "from transformers import pipeline\n",
    "\n",
    "summarization_model  = pipeline(\"summarization\")        # Summarize a text\n",
    "sentiment_model      = pipeline(\"sentiment-analysis\")   # Sentiment analysis\n",
    "translation_model    = pipeline('translation_en_to_fr') # Traduction from english to french\n",
    "image_classification = pipeline(\"image-classification\") # Image Classification"
   ]
  },
  {
   "cell_type": "markdown",
   "id": "49b48250",
   "metadata": {},
   "source": [
    "This code defines a function called predict_to_save, which combines different types of pre-trained models from the HuggingFace library based on the input data type. The function takes in five required parameters, sentiment_model, summarization_model, translation_model, image_classification, and input_type, as well as three optional parameters, data, min_length, and max_length.\n",
    "\n",
    "The purpose of the function is to make predictions using one or more of the provided pre-trained models based on the input_type. \n",
    "- If input_type is \"sentiment\", sentiment_model will be used to predict the sentiment of the input data. \n",
    "- If input_type is \"translation\", translation_model will be used to translate the input data. \n",
    "- If input_type is \"image\", image_classification will be used to classify the input image. \n",
    "- If input_type is \"summarization\", summarization_model will be used to summarize the input text.\n",
    "- If the input type is \"summarization\" and no data is provided, the function uses a story downloaded by the download_story function defined in the download_file module. "
   ]
  },
  {
   "cell_type": "code",
   "execution_count": null,
   "id": "eb79f838-a3ea-442d-be25-dc7d19c30030",
   "metadata": {},
   "outputs": [],
   "source": [
    "import download_file\n",
    "\n",
    "def predict_to_save(sentiment_model, summarization_model, translation_model, image_classification, input_type, data=None, min_length=0, max_length=150):\n",
    "    \"\"\"\n",
    "    This function combines different machine learning models for sentiment analysis, summarization, translation, and image classification.\n",
    "\n",
    "    Parameters:\n",
    "    -----------\n",
    "    sentiment_model : object\n",
    "        The pipeline object for sentiment analysis.\n",
    "    summarization_model : object\n",
    "        The pipeline object for summarization.\n",
    "    translation_model : object\n",
    "        The pipeline object for translation.\n",
    "    image_classification : object\n",
    "        The pipeline object for image classification.\n",
    "    input_type : str\n",
    "        The type of input data, either \"sentiment\", \"translation\", \"image\", or \"summarization\".\n",
    "    data : str, optional\n",
    "        The input data to be used for prediction. Required only for \"summarization\" input type, and optional for \"image\".\n",
    "    min_length : int, optional\n",
    "        The minimum length of the summary (used only for \"summarization\" input type).\n",
    "    max_length : int, optional\n",
    "        The maximum length of the summary (used only for \"summarization\" input type).\n",
    "\n",
    "    Returns:\n",
    "    --------\n",
    "    result : object\n",
    "        The predicted result for the given input data and type.\n",
    "\n",
    "    Raises:\n",
    "    -------\n",
    "    ValueError\n",
    "        If an invalid input type is selected.\n",
    "    Exception\n",
    "        If there is an error during prediction.\n",
    "\n",
    "    Examples:\n",
    "    ---------\n",
    "    >>> predict_to_save(sentiment_model, summarization_model, translation_model, image_classification, input_type = \"sentiment\", \"I am happy today.\")\n",
    "    \"Positive\"\n",
    "    >>> predict_to_save(sentiment_model, summarization_model, translation_model, image_classification, input_type = \"translation\", \"Hello, how are you?\")\n",
    "    \"Bonjour, comment allez-vous?\"\n",
    "    >>> predict_to_save(sentiment_model, summarization_model, translation_model, image_classification, input_type = \"image\", \"https://example.com/image.jpg\")\n",
    "    {\"category\": \"dog\", \"confidence\": 0.95}\n",
    "    >>> predict_to_save(sentiment_model, summarization_model, translation_model, image_classification, input_type = \"summarization\", \"https://example.com/story.txt\")\n",
    "    {\"summary\": \"A summary of the story.\", \"input_text\": \"The full text of the story.\"}\n",
    "    \"\"\"\n",
    "    \n",
    "    if input_type not in [\"sentiment\", \"translation\", \"image\", \"summarization\"]:\n",
    "        raise ValueError(\"Invalid input type selected\")\n",
    "\n",
    "    try:\n",
    "        if input_type == \"sentiment\":\n",
    "            return sentiment_model(data)\n",
    "        elif input_type == \"translation\":\n",
    "            return translation_model(data)\n",
    "        elif input_type == \"image\":\n",
    "            image = download_file.download_image(data)\n",
    "            return image_classification(image)\n",
    "        elif input_type == \"summarization\":\n",
    "            if data is None:\n",
    "                data = download_file.download_story()\n",
    "            summary = summarization_model(data, min_length=min_length, max_length=max_length)[0]\n",
    "            result = {\"summary\": summary, \"input_text\": data}\n",
    "            return result\n",
    "    except Exception as e:\n",
    "        raise Exception(f\"Error during prediction: {str(e)}\")\n"
   ]
  },
  {
   "cell_type": "markdown",
   "id": "b176a5f2",
   "metadata": {},
   "source": [
    "The code below demonstrates just how easy it is to use the cloudflow packages to log and save machine learning models. By importing the necessary packages, specifying the file path and experiment name, and preparing the environment for logging, this script quickly sets up a system for tracking the results of a machine learning experiment. With just a few lines of code, a metric can be logged in the current MLflow run, and a cloudflow_model object can be created and saved to the specified file path and experiment."
   ]
  },
  {
   "cell_type": "code",
   "execution_count": null,
   "id": "81bb3cc2-eff5-476c-b54d-c13ea2b9ca11",
   "metadata": {},
   "outputs": [],
   "source": [
    "#import the necessary packages.\n",
    "import mlflow\n",
    "import cloudflow\n",
    "\n",
    "#specify the file path where to save the model and the name of the experiment.\n",
    "tracking_uri =\"/saving_path\"\n",
    "experiment_id = \"experiment_name\" \n",
    "\n",
    "# prepare the environment for logging the model and the results.\n",
    "cloudflow.prepare_env(tracking_uri,experiment_id)\n",
    "\n",
    "#start an MLflow run for the specified experiment and assign it to the run object.\n",
    "with mlflow.start_run(experiment_id = experiment_id) as run:\n",
    "    \n",
    "    print(\"RUN ID : \", run.info.run_id)\n",
    "    \n",
    "    # log a metric in the current MLflow run, with the name 'test_metrics' and the value 0.99.\n",
    "    mlflow.log_metric('test_metrics', 0.99)\n",
    "\n",
    "    # create a cloudflow_model object with the specified debugging level (\"INFO\", \"DEBUG\", \"ERROR\", \"WARNING\").\n",
    "    model = cloudflow.cloudflow_model()\n",
    "\n",
    "    # save the cloudflow_model object to the specified file path and experiment, with the specified run_id. \n",
    "    # The predict_function is the function to use for making predictions, \n",
    "    # and the models dictionary contains the models to include in the saved model.        \n",
    "    model.save(tracking_uri    = tracking_uri,\n",
    "               experiment_id = experiment_id,\n",
    "               run_id = run.info.run_id, \n",
    "               predict_function = predict_to_save, \n",
    "               models = {\"summarization_model\"  : summarization_model, \n",
    "                         \"image_classification\" : image_classification,\n",
    "                         \"translation_model\"    : translation_model,\n",
    "                         \"sentiment_model\"      : sentiment_model})"
   ]
  },
  {
   "cell_type": "code",
   "execution_count": null,
   "id": "22e7329f-a94f-4683-b191-8720d9e9fd60",
   "metadata": {},
   "outputs": [],
   "source": []
  }
 ],
 "metadata": {
  "kernelspec": {
   "display_name": "Python 3",
   "language": "python",
   "name": "python3"
  },
  "language_info": {
   "codemirror_mode": {
    "name": "ipython",
    "version": 3
   },
   "file_extension": ".py",
   "mimetype": "text/x-python",
   "name": "python",
   "nbconvert_exporter": "python",
   "pygments_lexer": "ipython3",
   "version": "3.8.6"
  },
  "vscode": {
   "interpreter": {
    "hash": "ad2bdc8ecc057115af97d19610ffacc2b4e99fae6737bb82f5d7fb13d2f2c186"
   }
  }
 },
 "nbformat": 4,
 "nbformat_minor": 5
}
