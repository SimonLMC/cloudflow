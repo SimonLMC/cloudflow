{
 "cells": [
  {
   "cell_type": "code",
   "execution_count": 1,
   "id": "ea0d28a9-bd84-48c1-851e-dee7421b3a46",
   "metadata": {},
   "outputs": [],
   "source": [
    "import mlflow"
   ]
  },
  {
   "cell_type": "code",
   "execution_count": 2,
   "id": "dbebb686-5dc0-46bd-9d72-cd15c8b92ce3",
   "metadata": {},
   "outputs": [],
   "source": [
    "class custom_load_mlflow_model():\n",
    "    def init(self):\n",
    "        return\n",
    "        \n",
    "    def load_model(self, model_path):\n",
    "        self.model = mlflow.pyfunc.load_model(model_path)\n",
    "        \n",
    "    def predict(self, **params):\n",
    "        \n",
    "        return self.model.predict(params)"
   ]
  },
  {
   "cell_type": "code",
   "execution_count": 3,
   "id": "23b7de56-9697-4803-ac93-83669f698e4f",
   "metadata": {},
   "outputs": [
    {
     "name": "stdout",
     "output_type": "stream",
     "text": [
      "__predict__\n",
      "chargé\n",
      "image_classification\n",
      "chargé\n",
      "sentiment_model\n",
      "chargé\n",
      "summarization_model\n",
      "chargé\n",
      "translation_model\n",
      "chargé\n"
     ]
    }
   ],
   "source": [
    "model_path = \"/home/quinten/Utilisateurs/slemouellic/New_test_ml_flow/test_artifacts/mlruns/quinten/84ea04c00aee411bb3905607782786ad/artifacts/Model\"\n",
    "\n",
    "loaded_model = custom_load_mlflow_model()\n",
    "loaded_model.load_model(model_path)"
   ]
  },
  {
   "cell_type": "code",
   "execution_count": 4,
   "id": "bf175c66-eda9-4682-b4f3-3e55c759a908",
   "metadata": {},
   "outputs": [
    {
     "name": "stdout",
     "output_type": "stream",
     "text": [
      "lancement get_image\n",
      "lancement de test_import\n"
     ]
    },
    {
     "data": {
      "text/plain": [
       "[{'score': 0.9374414682388306, 'label': 'Egyptian cat'},\n",
       " {'score': 0.03844257444143295, 'label': 'tabby, tabby cat'},\n",
       " {'score': 0.014411373995244503, 'label': 'tiger cat'},\n",
       " {'score': 0.0032743189949542284, 'label': 'lynx, catamount'},\n",
       " {'score': 0.0006795917288400233, 'label': 'Siamese cat, Siamese'}]"
      ]
     },
     "execution_count": 4,
     "metadata": {},
     "output_type": "execute_result"
    }
   ],
   "source": [
    "loaded_model.predict(input_type = \"image\",\n",
    "                    data = \"https://huggingface.co/datasets/huggingface/documentation-images/resolve/main/coco_sample.png\")"
   ]
  },
  {
   "cell_type": "code",
   "execution_count": 5,
   "id": "1c1bee3d-2ad1-47e7-9ae5-0a123240ddd2",
   "metadata": {},
   "outputs": [
    {
     "data": {
      "text/plain": [
       "[{'label': 'POSITIVE', 'score': 0.9998656511306763}]"
      ]
     },
     "execution_count": 5,
     "metadata": {},
     "output_type": "execute_result"
    }
   ],
   "source": [
    "loaded_model.predict(input_type = \"sentiment\",\n",
    "                    data = \"I love you\")"
   ]
  },
  {
   "cell_type": "code",
   "execution_count": 6,
   "id": "807362e6-c8b5-4f1e-adbd-3943eb41bd42",
   "metadata": {},
   "outputs": [
    {
     "data": {
      "text/plain": [
       "[{'translation_text': 'Une pomme par jour, éloigne le médecin'}]"
      ]
     },
     "execution_count": 6,
     "metadata": {},
     "output_type": "execute_result"
    }
   ],
   "source": [
    "loaded_model.predict(input_type = \"translation\",\n",
    "                    data = \"An apple a day, keeps the doctor away\")"
   ]
  },
  {
   "cell_type": "code",
   "execution_count": 7,
   "id": "f44fb3f2-6f78-4dfc-a974-db45a5b74ca8",
   "metadata": {},
   "outputs": [
    {
     "name": "stderr",
     "output_type": "stream",
     "text": [
      "Ignoring args : (2, 5)\n",
      "Your max_length is set to 142, but you input_length is only 11. You might consider decreasing max_length manually, e.g. summarizer('...', max_length=5)\n"
     ]
    },
    {
     "data": {
      "text/plain": [
       "{'summary_text': \" An apple a day, keeps the doctor away from your doctor away . An apple every day is an apple that keeps you from going to the doctor . The apple is the best way to keep your doctor from getting a doctor's orders, according to the author of The Daily Mail .\",\n",
       " 'input_text': 'An apple a day, keeps the doctor away'}"
      ]
     },
     "execution_count": 7,
     "metadata": {},
     "output_type": "execute_result"
    }
   ],
   "source": [
    "loaded_model.predict(input_type = \"summarization\",\n",
    "                    data = \"An apple a day, keeps the doctor away\",\n",
    "                    min_length =  2, \n",
    "                     max_length = 5)"
   ]
  },
  {
   "cell_type": "code",
   "execution_count": 8,
   "id": "f4f26173-ca8d-464f-ab6d-41fdd4a50f24",
   "metadata": {},
   "outputs": [
    {
     "name": "stdout",
     "output_type": "stream",
     "text": [
      "Lancement download_story\n"
     ]
    },
    {
     "name": "stderr",
     "output_type": "stream",
     "text": [
      "Ignoring args : (10, 20)\n",
      "Your max_length is set to 142, but you input_length is only 127. You might consider decreasing max_length manually, e.g. summarizer('...', max_length=63)\n"
     ]
    },
    {
     "data": {
      "text/plain": [
       "{'summary_text': ' A certain Wolf could not get enough to eat because of the watchfulness of the Shepherds . But one night he found a sheep skin that had been cast aside and forgotten . The next day, dressed in the skin, the Wolf strolled into the pasture with the Sheep . A little Lamb was following him about and was quickly led away to slaughter .',\n",
       " 'input_text': 'A certain Wolf could not get enough to eat because of the watchfulness of the Shepherds. But one night he found a sheep skin that had been cast aside and forgotten. The next day, dressed in the skin, the Wolf strolled into the pasture with the Sheep. Soon a little Lamb was following him about and was quickly led away to slaughter. That evening the Wolf entered the fold with the flock. But it happened that the Shepherd took a fancy for mutton broth that very evening, and, picking up a knife, went to the fold. There the first he laid hands on and killed was the Wolf.'}"
      ]
     },
     "execution_count": 8,
     "metadata": {},
     "output_type": "execute_result"
    }
   ],
   "source": [
    "loaded_model.predict(input_type =  \"summarization\",\n",
    "                    min_length = 10, \n",
    "                    max_length = 20)"
   ]
  },
  {
   "cell_type": "code",
   "execution_count": null,
   "id": "9a231810-9175-4688-a480-54ad81ef39ca",
   "metadata": {},
   "outputs": [],
   "source": []
  }
 ],
 "metadata": {
  "kernelspec": {
   "display_name": "Python 3",
   "language": "python",
   "name": "python3"
  },
  "language_info": {
   "codemirror_mode": {
    "name": "ipython",
    "version": 3
   },
   "file_extension": ".py",
   "mimetype": "text/x-python",
   "name": "python",
   "nbconvert_exporter": "python",
   "pygments_lexer": "ipython3",
   "version": "3.8.6"
  }
 },
 "nbformat": 4,
 "nbformat_minor": 5
}
